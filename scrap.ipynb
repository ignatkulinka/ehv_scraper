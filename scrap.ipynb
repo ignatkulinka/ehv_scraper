{
 "cells": [
  {
   "cell_type": "code",
   "execution_count": 1,
   "id": "5a853549-bbb6-418f-a5e5-862942ae1099",
   "metadata": {},
   "outputs": [
    {
     "name": "stderr",
     "output_type": "stream",
     "text": [
      "/Users/ignat/Documents/ehv_scraper/.venv/lib/python3.9/site-packages/urllib3/__init__.py:35: NotOpenSSLWarning: urllib3 v2 only supports OpenSSL 1.1.1+, currently the 'ssl' module is compiled with 'LibreSSL 2.8.3'. See: https://github.com/urllib3/urllib3/issues/3020\n",
      "  warnings.warn(\n"
     ]
    }
   ],
   "source": [
    "# Import packages\n",
    "import time\n",
    "import itertools\n",
    "import pandas as pd\n",
    "from selenium import webdriver\n",
    "from selenium.webdriver.support.select import Select\n",
    "from selenium.webdriver.common.by import By\n",
    "from selenium.webdriver.support.ui import WebDriverWait\n",
    "from selenium.webdriver.common.action_chains import ActionChains\n",
    "from selenium.webdriver.support import expected_conditions as EC\n",
    "from selenium.webdriver.remote.webelement import WebElement\n",
    "from selenium.webdriver.common.actions.wheel_input import ScrollOrigin"
   ]
  },
  {
   "cell_type": "code",
   "execution_count": 2,
   "id": "4bdf6599-bc88-4b90-9af9-beadeb1144f5",
   "metadata": {},
   "outputs": [],
   "source": [
    "# Start a web driver and open a window\n",
    "driver = webdriver.Chrome()\n",
    "\n",
    "# Go to the page with the BI dashboard\n",
    "driver.get(\"https://www.hud.gov/program_offices/public_indian_housing/ehv/dashboard\")\n",
    "\n",
    "# Find the iframe that contains the dashboard and switch to it\n",
    "iframe = driver.find_element(By.TAG_NAME, \"iframe\")\n",
    "driver.switch_to.frame(iframe)"
   ]
  },
  {
   "cell_type": "code",
   "execution_count": 4,
   "id": "8390ef33-1a20-4110-9d64-b6a69f0d7d00",
   "metadata": {},
   "outputs": [],
   "source": [
    "# Click on next page to get to page 2\n",
    "WebDriverWait(driver, 20).until(EC.element_to_be_clickable((By.CSS_SELECTOR, 'button[aria-label=\"Next Page\"]'))).click()"
   ]
  },
  {
   "cell_type": "code",
   "execution_count": 5,
   "id": "694e13ac-be8c-4762-88d9-6b6c33220995",
   "metadata": {},
   "outputs": [],
   "source": [
    "# Click on next page to get to page 3\n",
    "WebDriverWait(driver, 20).until(EC.element_to_be_clickable((By.CSS_SELECTOR, 'button[aria-label=\"Next Page\"]'))).click()\n",
    "# Click on the button to get more data\n",
    "WebDriverWait(driver, 20).until(EC.element_to_be_clickable((By.CLASS_NAME, 'fill.ui-role-button-fill.sub-selectable'))).click()"
   ]
  },
  {
   "cell_type": "code",
   "execution_count": 6,
   "id": "f2703483-21d1-4f1b-95b2-ddb83a170ec8",
   "metadata": {},
   "outputs": [
    {
     "data": {
      "text/plain": [
       "['PHA Code',\n",
       " 'PHA Formal Name',\n",
       " 'Unique ID',\n",
       " 'Issuance Effective Date',\n",
       " 'Leased Effective Date',\n",
       " 'Expired Effective Date',\n",
       " 'Exit Effective Date\\n ',\n",
       " 'Days since Issuance',\n",
       " 'Time to Success',\n",
       " 'Race']"
      ]
     },
     "execution_count": 6,
     "metadata": {},
     "output_type": "execute_result"
    }
   ],
   "source": [
    "# Grab the column headers\n",
    "col_headers = driver.find_elements(By.XPATH, '//div[@role=\"columnheader\"]')\n",
    "col_headers = [x.text for x in col_headers if x.text != 'Row Selection']\n",
    "col_headers"
   ]
  },
  {
   "cell_type": "code",
   "execution_count": 7,
   "id": "c806a214-25a9-4fba-8c0e-04c58022b4f9",
   "metadata": {},
   "outputs": [],
   "source": [
    "# Define a function to grab and group the data into a nested list\n",
    "def getSplitTextRows(row):\n",
    "  cells = row.find_elements(By.XPATH, '//div[@role=\"gridcell\"]')\n",
    "  text_from_cells = [cell.text for cell in cells] \n",
    "  return([list(group) for k, group in itertools.groupby(text_from_cells, lambda x: x=='Select Row') if not k])"
   ]
  },
  {
   "cell_type": "code",
   "execution_count": 8,
   "id": "9b526d8e-9628-4c89-b356-e10b8b30bedf",
   "metadata": {},
   "outputs": [
    {
     "name": "stdout",
     "output_type": "stream",
     "text": [
      "Processed 29 rows.\n",
      "Processed 59 rows.\n",
      "Processed 86 rows.\n",
      "Processed 114 rows.\n",
      "Processed 141 rows.\n",
      "Processed 164 rows.\n",
      "Processed 187 rows.\n",
      "Processed 211 rows.\n",
      "Processed 241 rows.\n",
      "Processed 265 rows.\n",
      "Processed 289 rows.\n",
      "Processed 312 rows.\n",
      "Processed 335 rows.\n",
      "Processed 358 rows.\n"
     ]
    }
   ],
   "source": [
    "# Main scraper loop \n",
    "# 1. Scrap the table\n",
    "# 2. Count rows (X)\n",
    "# 3. Move down X rows\n",
    "# 4. Scrap and repeat\n",
    "\n",
    "# Scrap\n",
    "stacked_table = pd.DataFrame()\n",
    "cnt_rows = 0\n",
    "cnt_new_rows = 1\n",
    "\n",
    "while cnt_new_rows > 0: \n",
    "    current_row = driver.find_element(By.XPATH, '//div[@role=\"columnheader\"]')\n",
    "    current_data = pd.DataFrame(getSplitTextRows(current_row), columns = col_headers)\n",
    "    \n",
    "    # Double click on the last cell available\n",
    "    cells_in_view = current_row.find_elements(By.XPATH, '//div[@role=\"gridcell\"]')\n",
    "    first_cell_last_row = cells_in_view[-10]\n",
    "    ActionChains(driver)\\\n",
    "      .double_click(first_cell_last_row)\\\n",
    "      .perform()\n",
    "     \n",
    "    # Scroll down\n",
    "    key_to_press = \"\\ue015\"\n",
    "    actions = ActionChains(driver)\n",
    "    \n",
    "    # Perform the key press action multiple times with a delay between each press\n",
    "    for _ in range(len(current_data)):\n",
    "        actions.key_down(key_to_press).perform()\n",
    "        time.sleep(0.01)\n",
    "        \n",
    "    actions.perform()\n",
    "\n",
    "    # Count number of new rows\n",
    "    if len(stacked_table) == 0:\n",
    "        cnt_new_rows = len(current_data)\n",
    "    else: \n",
    "        cnt_new_rows = (~current_data['Unique ID'].isin(stacked_table['Unique ID'])).sum()\n",
    "\n",
    "    # Combine scrapped data and display rows scrapped\n",
    "    stacked_table = pd.concat([stacked_table, current_data], ignore_index=True)\n",
    "    cnt_rows = len(stacked_table)\n",
    "    print(f\"Processed {cnt_rows} rows.\")\n"
   ]
  },
  {
   "cell_type": "code",
   "execution_count": null,
   "id": "da5bed45-5b9e-49b5-b76a-f5a0a92f20d1",
   "metadata": {},
   "outputs": [],
   "source": [
    "stacked_table.drop_duplicates().to_excel('output.xlsx', index=False)"
   ]
  }
 ],
 "metadata": {
  "kernelspec": {
   "display_name": "Python 3 (ipykernel)",
   "language": "python",
   "name": "python3"
  },
  "language_info": {
   "codemirror_mode": {
    "name": "ipython",
    "version": 3
   },
   "file_extension": ".py",
   "mimetype": "text/x-python",
   "name": "python",
   "nbconvert_exporter": "python",
   "pygments_lexer": "ipython3",
   "version": "3.9.6"
  }
 },
 "nbformat": 4,
 "nbformat_minor": 5
}
