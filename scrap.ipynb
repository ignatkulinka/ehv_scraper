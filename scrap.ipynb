{
 "cells": [
  {
   "cell_type": "code",
   "execution_count": 1,
   "id": "5a853549-bbb6-418f-a5e5-862942ae1099",
   "metadata": {},
   "outputs": [],
   "source": [
    "# Import packages\n",
    "import time\n",
    "import itertools\n",
    "import pandas as pd\n",
    "from selenium import webdriver\n",
    "from selenium.webdriver.support.select import Select\n",
    "from selenium.webdriver.common.by import By\n",
    "from selenium.webdriver.support.ui import WebDriverWait\n",
    "from selenium.webdriver.common.action_chains import ActionChains\n",
    "from selenium.webdriver.support import expected_conditions as EC\n",
    "from selenium.webdriver.remote.webelement import WebElement\n",
    "from selenium.webdriver.common.actions.wheel_input import ScrollOrigin"
   ]
  },
  {
   "cell_type": "code",
   "execution_count": 2,
   "id": "4bdf6599-bc88-4b90-9af9-beadeb1144f5",
   "metadata": {},
   "outputs": [],
   "source": [
    "# Start a web driver and open a window\n",
    "driver = webdriver.Chrome()\n",
    "\n",
    "# Go to the page with the BI dashboard\n",
    "driver.get(\"https://www.hud.gov/program_offices/public_indian_housing/ehv/dashboard\")\n",
    "\n",
    "# Find the iframe that contains the dashboard and switch to it\n",
    "iframe = driver.find_element(By.TAG_NAME, \"iframe\")\n",
    "driver.switch_to.frame(iframe)"
   ]
  },
  {
   "cell_type": "code",
   "execution_count": 3,
   "id": "8390ef33-1a20-4110-9d64-b6a69f0d7d00",
   "metadata": {},
   "outputs": [],
   "source": [
    "# Click on next page to get to page 2\n",
    "WebDriverWait(driver, 20).until(EC.element_to_be_clickable((By.CSS_SELECTOR, 'button[aria-label=\"Next Page\"]'))).click()"
   ]
  },
  {
   "cell_type": "code",
   "execution_count": 4,
   "id": "694e13ac-be8c-4762-88d9-6b6c33220995",
   "metadata": {},
   "outputs": [],
   "source": [
    "# Click on next page to get to page 3\n",
    "WebDriverWait(driver, 20).until(EC.element_to_be_clickable((By.CSS_SELECTOR, 'button[aria-label=\"Next Page\"]'))).click()\n",
    "# Click on the button to get more data\n",
    "WebDriverWait(driver, 20).until(EC.element_to_be_clickable((By.CLASS_NAME, 'fill.ui-role-button-fill.sub-selectable'))).click()"
   ]
  },
  {
   "cell_type": "code",
   "execution_count": 9,
   "id": "f2703483-21d1-4f1b-95b2-ddb83a170ec8",
   "metadata": {},
   "outputs": [
    {
     "data": {
      "text/plain": [
       "['PHA Code',\n",
       " 'PHA Formal Name',\n",
       " 'Unique ID',\n",
       " 'Issuance Effective Date',\n",
       " 'Leased Effective Date',\n",
       " 'Expired Effective Date',\n",
       " 'Exit Effective Date\\n ',\n",
       " 'Days since Issuance',\n",
       " 'Time to Success',\n",
       " 'Race']"
      ]
     },
     "execution_count": 9,
     "metadata": {},
     "output_type": "execute_result"
    }
   ],
   "source": [
    "# Grab the column headers\n",
    "col_headers = driver.find_elements(By.XPATH, '//div[@role=\"columnheader\"]')\n",
    "col_headers = [x.text for x in col_headers if x.text != 'Row Selection']\n",
    "col_headers"
   ]
  },
  {
   "cell_type": "code",
   "execution_count": 6,
   "id": "c806a214-25a9-4fba-8c0e-04c58022b4f9",
   "metadata": {},
   "outputs": [],
   "source": [
    "# Define a function to grab and group the data into a nested list\n",
    "def getSplitTextRows(row):\n",
    "  cells = row.find_elements(By.XPATH, '//div[@role=\"gridcell\"]')\n",
    "  text_from_cells = [cell.text for cell in cells] \n",
    "  return([list(group) for k, group in itertools.groupby(text_from_cells, lambda x: x=='Select Row') if not k])"
   ]
  },
  {
   "cell_type": "code",
   "execution_count": 10,
   "id": "9b526d8e-9628-4c89-b356-e10b8b30bedf",
   "metadata": {},
   "outputs": [
    {
     "name": "stdout",
     "output_type": "stream",
     "text": [
      "Rows scrapped: 28\n",
      "Rows scrapped: 56\n",
      "Rows scrapped: 78\n",
      "Rows scrapped: 98\n",
      "Rows scrapped: 120\n",
      "Rows scrapped: 150\n",
      "Rows scrapped: 173\n",
      "Rows scrapped: 193\n",
      "Rows scrapped: 217\n",
      "Rows scrapped: 244\n",
      "Rows scrapped: 264\n",
      "Rows scrapped: 284\n",
      "Rows scrapped: 304\n",
      "Rows scrapped: 330\n",
      "Rows scrapped: 358\n",
      "Rows scrapped: 382\n",
      "Rows scrapped: 406\n",
      "Rows scrapped: 430\n",
      "Rows scrapped: 450\n",
      "Rows scrapped: 479\n",
      "Rows scrapped: 499\n",
      "Rows scrapped: 526\n",
      "Rows scrapped: 546\n",
      "Rows scrapped: 571\n",
      "Rows scrapped: 595\n",
      "Rows scrapped: 622\n",
      "Rows scrapped: 646\n",
      "Rows scrapped: 671\n",
      "Rows scrapped: 698\n",
      "Rows scrapped: 718\n",
      "Rows scrapped: 742\n",
      "Rows scrapped: 769\n",
      "Rows scrapped: 790\n",
      "Rows scrapped: 814\n",
      "Rows scrapped: 838\n",
      "Rows scrapped: 868\n",
      "Rows scrapped: 891\n",
      "Rows scrapped: 914\n",
      "Rows scrapped: 934\n",
      "Rows scrapped: 954\n",
      "Rows scrapped: 978\n",
      "Rows scrapped: 998\n",
      "Rows scrapped: 1018\n"
     ]
    }
   ],
   "source": [
    "# Main scraper loop \n",
    "# 1. Scrap the table\n",
    "# 2. Count rows (X)\n",
    "# 3. Move down X rows\n",
    "# 4. Scrap and repeat\n",
    "\n",
    "# Scrap\n",
    "stacked_table = pd.DataFrame()\n",
    "cnt_rows = 0\n",
    "\n",
    "while cnt_rows < 1000: \n",
    "    current_row = driver.find_element(By.XPATH, '//div[@role=\"columnheader\"]')\n",
    "    current_data = pd.DataFrame(getSplitTextRows(current_row), columns = col_headers)\n",
    "    \n",
    "    # Double click on the first cell\n",
    "    cells_in_view = driver.find_elements(By.XPATH, '//div[@role=\"gridcell\"]')\n",
    "    first_cell = cells_in_view[1]\n",
    "    ActionChains(driver)\\\n",
    "      .double_click(first_cell)\\\n",
    "      .perform()\n",
    "    \n",
    "    # Press down\n",
    "    key_to_press = \"\\ue015\"\n",
    "    actions = ActionChains(driver)\n",
    "    \n",
    "    # Perform the key press action multiple times with a delay between each press\n",
    "    for _ in range(len(current_data) * 2 - 5):\n",
    "        actions.key_down(key_to_press).perform()\n",
    "        time.sleep(0.1)\n",
    "        \n",
    "    actions.perform()\n",
    "    stacked_table = pd.concat([stacked_table, current_data], ignore_index=True)\n",
    "    cnt_rows = len(stacked_table)\n",
    "    print(\"Rows scrapped:\", cnt_rows)\n"
   ]
  },
  {
   "cell_type": "code",
   "execution_count": 18,
   "id": "da5bed45-5b9e-49b5-b76a-f5a0a92f20d1",
   "metadata": {},
   "outputs": [],
   "source": [
    "stacked_table.drop_duplicates().to_excel('output.xlsx', index=False)"
   ]
  }
 ],
 "metadata": {
  "kernelspec": {
   "display_name": "Python 3 (ipykernel)",
   "language": "python",
   "name": "python3"
  },
  "language_info": {
   "codemirror_mode": {
    "name": "ipython",
    "version": 3
   },
   "file_extension": ".py",
   "mimetype": "text/x-python",
   "name": "python",
   "nbconvert_exporter": "python",
   "pygments_lexer": "ipython3",
   "version": "3.10.9"
  }
 },
 "nbformat": 4,
 "nbformat_minor": 5
}
